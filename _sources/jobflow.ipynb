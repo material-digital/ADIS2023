{
 "metadata": {
  "kernelspec": {
   "display_name": "Python 3 (ipykernel)",
   "language": "python",
   "name": "python3"
  },
  "language_info": {
   "name": "python",
   "version": "3.11.0",
   "mimetype": "text/x-python",
   "codemirror_mode": {
    "name": "ipython",
    "version": 3
   },
   "pygments_lexer": "ipython3",
   "nbconvert_exporter": "python",
   "file_extension": ".py"
  }
 },
 "nbformat_minor": 4,
 "nbformat": 4,
 "cells": [
  {
   "cell_type": "markdown",
   "source": [
    "# jobflow"
   ],
   "metadata": {}
  },
  {
   "metadata": {},
   "cell_type": "markdown",
   "source": [
    "The Python package [`jobflow`](https://materialsproject.github.io/jobflow/index.html) was developed in the context of the [Materials Project](https://next-gen.materialsproject.org/) and its overall flexibility allows for building workflows that go beyond the usage in material science. `jobflow` forms the basis of [`atomate2`](https://materialsproject.github.io/atomate2/index.html), a software package for data generation workflows. `jobflow` and `atomate2` are key packages of the Materials Project. `jobflow` was especially designed to simplify the execution of dynamic workflows -- when the actual number of jobs is dynamically determined upon runtime instead of being statically fixed before running the workflow(s)."
   ]
  },
  {
   "metadata": {},
   "cell_type": "markdown",
   "source": [
    "## Installation / Setup\n",
    "`jobflow` can be installed via 'pip install' and be run with the default setup. It will then internally rely on a predefined  memory database as defined in the software package [`maggma`](https://materialsproject.github.io/maggma/). For large-scale usage, a [MongoDB](https://www.mongodb.com/)-like database might be specified for each project in a jobflow.yaml file.\n",
    "A high-throughput setup (i.e., parallel execution of independent parts in the workflow) of `jobflow` can be achieved using additional packages like [`fireworks`](https://materialsproject.github.io/fireworks/) or [`jobflow-remote`](https://matgenix.github.io/jobflow-remote/). Both packages require a MongoDB database. In case of `FireWorks`, however, the MongoDB database needs to be connected to the compute nodes. `jobflow-remote` allows remote submission options that only require a MongoDB database on the submitting computer but not the compute nodes. It can also deal with multi-factor authentification."
   ]
  },
  {
   "metadata": {},
   "cell_type": "markdown",
   "source": [
    "## Basic introduction to `jobflow` concepts\n",
    "Before diving into the simulation code and more details, we need to discuss the core concepts of `jobflow` (written in Python). It defines `job` and `Flow` objects to handle the correct sequential execution of a workflow. A `job` is a class that allows for the delayed execution of a function. Functions can be easily transformed into a `job` with the `@job` decorator, as demonstrated here with a test function:"
   ]
  },
  {
   "metadata": {
    "jupyter": {
     "is_executing": true
    },
    "ExecuteTime": {
     "end_time": "2024-06-30T21:48:46.425490304Z",
     "start_time": "2024-06-30T21:48:45.207125865Z"
    }
   },
   "cell_type": "code",
   "source": [
    "from jobflow import job\n",
    "@job\n",
    "def my_function(my_parameter: int):\n",
    "    return my_parameter\n",
    "\n",
    "job1 = my_function(my_parameter=1)\n"
   ],
   "outputs": [],
   "execution_count": 2
  },
  {
   "metadata": {},
   "cell_type": "markdown",
   "source": [
    "When we connect several `jobs` to generate a `Flow` object, we can construct a whole workflow. The list of connected `jobs` has to be passed to initialize a `Flow`. The order of the `jobs` is automatically determined by the job connectivity via the `job.output` upon runtime. We can also connect several `jobs` and `Flows` to create a new `Flow`.\n"
   ]
  },
  {
   "metadata": {
    "ExecuteTime": {
     "end_time": "2024-06-30T21:48:46.430179016Z",
     "start_time": "2024-06-30T21:48:46.428480615Z"
    }
   },
   "cell_type": "code",
   "outputs": [],
   "execution_count": 3,
   "source": [
    "from jobflow import job, Flow\n",
    "@job\n",
    "def my_function(my_parameter: int):\n",
    "    return my_parameter\n",
    "@job\n",
    "def my_second_function(my_parameter: int):\n",
    "    return my_parameter\n",
    "\n",
    "job1 = my_function(my_parameter=1)\n",
    "job2 = my_second_function(job1.output)\n",
    "flow = Flow([job1, job2], job2.output)"
   ]
  },
  {
   "cell_type": "markdown",
   "source": [
    "The following simple [Mermaid](https://mermaid.live) graph will illustrate the workflow `flow` from the example above:"
   ],
   "metadata": {
    "collapsed": false
   }
  },
  {
   "cell_type": "code",
   "execution_count": 4,
   "outputs": [
    {
     "data": {
      "text/html": "<img src=\"https://mermaid.ink/img/Zmxvd2NoYXJ0IFRECiAgICAyOTQwZDdkYS1iMWUyLTQ2M2UtYTY0Mi01ZWJiYjQwZWJiNWMobXlfZnVuY3Rpb24pIC0tPnxvdXRwdXR8IGJhNjA2N2IzLWM1MjktNDhmOS04NjhkLWFhM2I1MzI3MmVlZChteV9zZWNvbmRfZnVuY3Rpb24pCiAgICAyOTQwZDdkYS1iMWUyLTQ2M2UtYTY0Mi01ZWJiYjQwZWJiNWMobXlfZnVuY3Rpb24pCiAgICBiYTYwNjdiMy1jNTI5LTQ4ZjktODY4ZC1hYTNiNTMyNzJlZWQobXlfc2Vjb25kX2Z1bmN0aW9uKQ==\"/>",
      "text/plain": "<IPython.core.display.Image object>"
     },
     "metadata": {},
     "output_type": "display_data"
    }
   ],
   "source": [
    "import base64\n",
    "from IPython.display import Image, display\n",
    "from jobflow.utils.graph import to_mermaid\n",
    "\n",
    "def mm(graph):\n",
    "    graphbytes = graph.encode(\"utf8\")\n",
    "    base64_bytes = base64.b64encode(graphbytes)\n",
    "    base64_string = base64_bytes.decode(\"ascii\")\n",
    "    display(Image(url=\"https://mermaid.ink/img/\" + base64_string))\n",
    "\n",
    "graph_source = to_mermaid(flow, show_flow_boxes=True)\n",
    "\n",
    "mm(graph_source)\n"
   ],
   "metadata": {
    "collapsed": false,
    "ExecuteTime": {
     "end_time": "2024-06-30T21:48:48.253403373Z",
     "start_time": "2024-06-30T21:48:48.050654446Z"
    }
   }
  },
  {
   "metadata": {},
   "cell_type": "markdown",
   "source": [
    "With a so-called `Maker` object, the implementation of `job` and `Flow` objects can be further simplified. It is an extended dataclass object that generates a `job` or `Flow` with the `make` method. Dataclasses are used as they allow defining immutable default values. These `Makers` can then be used to reuse code via the usual inheritance in Python.\n"
   ]
  },
  {
   "metadata": {
    "ExecuteTime": {
     "end_time": "2024-06-30T21:48:50.046004482Z",
     "start_time": "2024-06-30T21:48:50.036716636Z"
    }
   },
   "cell_type": "code",
   "outputs": [],
   "execution_count": 5,
   "source": [
    "from dataclasses import dataclass\n",
    "from jobflow import Maker\n",
    "@dataclass\n",
    "class MyMaker(Maker):\n",
    "    name: str = \"My Maker\"\n",
    "    scaling: float = 1.1\n",
    "\n",
    "    @job\n",
    "    def make(self, my_parameter: int):\n",
    "        return my_parameter * self.scaling\n",
    "    \n",
    "@dataclass\n",
    "class MyInheritedMaker(MyMaker):\n",
    "    name: str = \"My inherited Maker\"\n",
    "\n",
    "job1=MyMaker().make(my_parameter=1)\n",
    "job2=MyInheritedMaker().make(my_parameter=job1.output)"
   ]
  },
  {
   "metadata": {},
   "cell_type": "markdown",
   "source": [
    "When faced with dynamic workflows (where the number of jobs is unclear before execution) a `Response` object instead of a `job` or `Flow` object can be returned. There are several options to insert the new list of jobs into the `Response` object.\n",
    "We will now use this knowledge to implement the Quantum Espresso-related tasks for calculating a \"Energy vs. Volume\" curve. It’s important to point out that this is only a basic implementation, and further extensions towards data validation or for nicer user experience can be added. "
   ]
  },
  {
   "metadata": {},
   "cell_type": "markdown",
   "source": [
    "> ℹ️ Note: all outputs of a job need to be transformable into a JSON-like format. Therefore, we use a pymatgen `Structure` object here instead of an ase `Atoms` object. `Structure` inherits from the Python package monty’s MSONable class allowing an easy serialization into a `dict`. In addition, commands to execute jobs might be set in such a way that users can easily adapt them in a configuration file."
   ]
  },
  {
   "cell_type": "markdown",
   "source": [
    "For building the Quantum Espresso (QE)-related tasks, we start by importing essential tools to be able to create and navigate directories (`os`) and execute programs like the QE binary (`subprocess`). `pydantic` is very convenient for managing all kinds of data types."
   ],
   "metadata": {
    "collapsed": false
   }
  },
  {
   "cell_type": "code",
   "source": [
    "import subprocess\n",
    "import os\n",
    "from pydantic import BaseModel, Field"
   ],
   "metadata": {
    "ExecuteTime": {
     "end_time": "2024-06-30T21:48:52.311875326Z",
     "start_time": "2024-06-30T21:48:52.302010359Z"
    }
   },
   "execution_count": 6,
   "outputs": []
  },
  {
   "cell_type": "markdown",
   "source": [
    "Then we import tools for data plotting and mathematical operations and manipulation."
   ],
   "metadata": {
    "collapsed": false,
    "ExecuteTime": {
     "end_time": "2024-06-30T18:49:41.083780748Z",
     "start_time": "2024-06-30T18:49:40.328009350Z"
    }
   }
  },
  {
   "cell_type": "code",
   "source": [
    "import matplotlib.pyplot as plt\n",
    "import numpy as np"
   ],
   "metadata": {
    "ExecuteTime": {
     "end_time": "2024-06-30T21:48:53.766161056Z",
     "start_time": "2024-06-30T21:48:53.587585176Z"
    }
   },
   "execution_count": 7,
   "outputs": []
  },
  {
   "cell_type": "markdown",
   "source": [
    "ASE provides us with a method to create bulk crystal systems and a writer to handle output. "
   ],
   "metadata": {
    "collapsed": false
   }
  },
  {
   "cell_type": "code",
   "source": [
    "from ase.build import bulk\n",
    "from ase.io import write"
   ],
   "metadata": {
    "ExecuteTime": {
     "end_time": "2024-06-30T21:48:54.880093570Z",
     "start_time": "2024-06-30T21:48:54.760953766Z"
    }
   },
   "execution_count": 8,
   "outputs": []
  },
  {
   "cell_type": "markdown",
   "source": [
    "From ADIS we take the QE XML output parser."
   ],
   "metadata": {
    "collapsed": false
   }
  },
  {
   "cell_type": "code",
   "execution_count": 9,
   "outputs": [],
   "source": [
    "from adis_tools.parsers import parse_pw"
   ],
   "metadata": {
    "collapsed": false,
    "ExecuteTime": {
     "end_time": "2024-06-30T21:48:55.896681674Z",
     "start_time": "2024-06-30T21:48:55.826305046Z"
    }
   }
  },
  {
   "cell_type": "markdown",
   "source": [
    "As we want to calculate a (E, V) curve with QE, we start by implementing a function to apply a certain strain to the original structure."
   ],
   "metadata": {
    "collapsed": false
   }
  },
  {
   "cell_type": "code",
   "source": [
    "def generate_structures(structure, strain_lst):  # structure should be of ase Atoms type\n",
    "    structure_lst = []\n",
    "    for strain in strain_lst:\n",
    "        structure_strain = structure.copy()\n",
    "        structure_strain.set_cell(\n",
    "            structure_strain.cell * strain**(1/3), \n",
    "            scale_atoms=True\n",
    "        )\n",
    "        structure_lst.append(structure_strain)\n",
    "    return structure_lst"
   ],
   "metadata": {
    "ExecuteTime": {
     "end_time": "2024-06-30T21:48:56.861445479Z",
     "start_time": "2024-06-30T21:48:56.853288871Z"
    }
   },
   "execution_count": 10,
   "outputs": []
  },
  {
   "cell_type": "markdown",
   "source": [
    "Then we define a function to plot and save the (E, V) curve as a PNG file."
   ],
   "metadata": {
    "collapsed": false
   }
  },
  {
   "cell_type": "code",
   "source": [
    "def plot_energy_volume_curve(volume_lst, energy_lst):\n",
    "    plt.plot(volume_lst, energy_lst)\n",
    "    plt.xlabel(\"Volume\")\n",
    "    plt.ylabel(\"Energy\")\n",
    "    plt.savefig(\"evcurve.png\")"
   ],
   "metadata": {
    "ExecuteTime": {
     "end_time": "2024-06-30T21:48:57.897136033Z",
     "start_time": "2024-06-30T21:48:57.887720116Z"
    }
   },
   "execution_count": 11,
   "outputs": []
  },
  {
   "cell_type": "markdown",
   "source": [
    "Next, we need a function to write the QE input files. The `input_dict` has to contain all essential input information like the structure, the pseudopotentials, the number of kpoints, the calculation type and the smearing type."
   ],
   "metadata": {
    "collapsed": false
   }
  },
  {
   "cell_type": "code",
   "source": [
    "def write_input(input_dict, working_directory=\".\"):\n",
    "    filename = os.path.join(working_directory, 'input.pwi')\n",
    "    os.makedirs(working_directory, exist_ok=True)\n",
    "    write(\n",
    "        filename=filename, \n",
    "        images=input_dict[\"structure\"], \n",
    "        Crystal=True, \n",
    "        kpts=input_dict[\"kpts\"], \n",
    "        input_data={\n",
    "            'calculation': input_dict[\"calculation\"],\n",
    "            'occupations': 'smearing',\n",
    "            'degauss': input_dict[\"smearing\"],\n",
    "        }, \n",
    "        pseudopotentials=input_dict[\"pseudopotentials\"],\n",
    "        tstress=True, \n",
    "        tprnfor=True\n",
    "    )"
   ],
   "metadata": {
    "ExecuteTime": {
     "end_time": "2024-06-30T21:48:58.798035578Z",
     "start_time": "2024-06-30T21:48:58.791457316Z"
    }
   },
   "execution_count": 12,
   "outputs": []
  },
  {
   "cell_type": "markdown",
   "source": [
    "Then, we also need to define a function to collect the output from the QE calculation to pass it to `plot_energy_volume_curve` in order to plot the actual figure. Here we make use of the ADIS QE XML output parser `parse_pw`."
   ],
   "metadata": {
    "collapsed": false
   }
  },
  {
   "cell_type": "code",
   "source": [
    "def collect_output(working_directory=\".\"):\n",
    "    output = parse_pw(os.path.join(working_directory, 'pwscf.xml'))\n",
    "    return {\n",
    "        \"structure\": output['ase_structure'],\n",
    "        \"energy\": output[\"energy\"],\n",
    "        \"volume\": output['ase_structure'].get_volume(),\n",
    "    }"
   ],
   "metadata": {
    "ExecuteTime": {
     "end_time": "2024-06-30T21:48:59.718169308Z",
     "start_time": "2024-06-30T21:48:59.711684823Z"
    }
   },
   "execution_count": 13,
   "outputs": []
  },
  {
   "cell_type": "markdown",
   "source": [
    "Now, we need to systematically handle the QE input. We make use of the pymatgen `InputSet` and `InputGenerator` classes to control and define the input data format. The `QEInputSet` defines the input information format which will be followed by the `QEInputGenerator`. We also define an extra `QEInputStaticGenerator` class (inheriting from `QEInputGenerator`) to be able to separately handle the static QE calculations for every strained structure in a convenient way.  Finally, we define the function `write_qe_input_set` to write the QE input files into the current working directory."
   ],
   "metadata": {
    "collapsed": false,
    "ExecuteTime": {
     "end_time": "2024-06-30T19:44:34.646615479Z",
     "start_time": "2024-06-30T19:44:34.599326311Z"
    }
   }
  },
  {
   "cell_type": "code",
   "source": [
    "from pymatgen.io.core import InputSet, InputGenerator\n",
    "from dataclasses import dataclass, field\n",
    "\n",
    "\n",
    "class QEInputSet(InputSet):\n",
    "    \"\"\"\n",
    "    Writes an QE input based on an input_dict\n",
    "    \"\"\"\n",
    "    def __init__(self, input_dict):\n",
    "        self.input_dict = input_dict\n",
    "\n",
    "    def write_input(self, working_directory=\".\"):\n",
    "        write_input(self.input_dict, working_directory=working_directory)\n",
    "\n",
    "\n",
    "@dataclass\n",
    "class QEInputGenerator(InputGenerator):\n",
    "    \"\"\"\n",
    "    Generates an QE input based on the format given in QEInputSet.\n",
    "    \"\"\"\n",
    "    pseudopotentials: dict = field(default_factory=lambda: {\"Al\": \"Al.pbe-n-kjpaw_psl.1.0.0.UPF\"})\n",
    "    kpts: tuple = (3,3,3)\n",
    "    calculation: str = \"vc-relax\"\n",
    "    smearing: float = 0.02\n",
    "    \n",
    "\n",
    "    def get_input_set(self, structure) -> QEInputSet:\n",
    "\n",
    "        input_dict={\"structure\":structure,\n",
    "            \"pseudopotentials\":self.pseudopotentials, \n",
    "            \"kpts\": self.kpts,\n",
    "            \"calculation\": self.calculation,\n",
    "            \"smearing\": self.smearing,\n",
    "                    }\n",
    "        return QEInputSet(input_dict=input_dict)\n",
    "\n",
    "@dataclass\n",
    "class QEInputStaticGenerator(QEInputGenerator):\n",
    "    calculation: str = \"scf\"\n",
    "\n",
    "   \n",
    "def write_qe_input_set(structure, input_set_generator=QEInputGenerator(), working_directory=\".\"):\n",
    "    qis = input_set_generator.get_input_set(structure=structure)\n",
    "    qis.write_input(working_directory=working_directory)\n",
    "    \n",
    "    "
   ],
   "metadata": {
    "collapsed": false,
    "ExecuteTime": {
     "end_time": "2024-06-30T21:49:00.757248540Z",
     "start_time": "2024-06-30T21:49:00.748276484Z"
    }
   },
   "execution_count": 14,
   "outputs": []
  },
  {
   "cell_type": "markdown",
   "source": [
    "The next steps are all concerned about handling the execution of QE and the output data collection. We start by defining a QE task document `QETaskDoc` to systematically collect the output data. For the (E, V) curve, the energy and volume are of course the most important information. The task document could be further extended to contain information that is relevant for other purposes. Next, we define a `BaseQEMaker` to handle generic QE jobs (in our case for the structural relaxation) and a separate `StaticQEMaker` for the static QE calculations. The `BaseQEMaker` is expecting the generic input set generated by `QEInputGenerator`, while `StaticQEMaker` expects the `QEInputStaticGenerator` type. As the `StaticQEMaker` inherits from the `BaseQEMaker`, we only need to make sure to pass the correct input set generator type."
   ],
   "metadata": {
    "collapsed": false
   }
  },
  {
   "cell_type": "code",
   "source": [
    "from dataclasses import dataclass, field\n",
    "from jobflow import job, Maker\n",
    "from pymatgen.io.ase import MSONAtoms\n",
    "from typing import Any, Optional, Union\n",
    "\n",
    "\n",
    "QE_CMD= \"mpirun -np 1 pw.x -in input.pwi > output.pwo\"\n",
    "def run_qe(qe_cmd=QE_CMD):\n",
    "    subprocess.check_output(qe_cmd, shell=True, universal_newlines=True)\n",
    "    \n",
    "    \n",
    "class QETaskDoc(BaseModel):\n",
    "    structure: Optional[MSONAtoms] = Field(None, description=\"ASE structure\")\n",
    "    energy: Optional[float] = Field(None, description=\"DFT energy in eV\")\n",
    "    volume: Optional[float] = Field(None, description=\"volume in Angstrom^3\")\n",
    "    \n",
    "    @classmethod\n",
    "    def from_directory(cls, working_directory):\n",
    "        output=collect_output(working_directory=working_directory)\n",
    "        # structure object needs to be serializable, i.e., we need an additional transformation\n",
    "        return cls(structure=MSONAtoms(output[\"structure\"]), energy=output[\"energy\"], volume=output[\"volume\"])\n",
    "\n",
    "@dataclass\n",
    "class BaseQEMaker(Maker):\n",
    "    \"\"\"\n",
    "    Base QE job maker.\n",
    "\n",
    "    Parameters\n",
    "    ----------\n",
    "    name : str\n",
    "        The job name.\n",
    "    input_set_generator : .QEInputGenerator\n",
    "        A generator used to make the input set.\n",
    "    \"\"\"\n",
    "\n",
    "    name: str = \"base qe job\"\n",
    "    input_set_generator: QEInputGenerator = field(default_factory=QEInputGenerator)\n",
    "\n",
    "    @job(output_schema=QETaskDoc)\n",
    "    def make(\n",
    "        self, structure\n",
    "    ) -> QETaskDoc:\n",
    "        \"\"\"\n",
    "        Run a QE calculation.\n",
    "\n",
    "        Parameters\n",
    "        ----------\n",
    "        structure : MSONAtoms|Atoms\n",
    "            An Atoms or MSONAtoms object.\n",
    "            \n",
    "        Returns\n",
    "        -------\n",
    "            Output of a QE calculation\n",
    "        \"\"\"\n",
    "        # copy previous inputs\n",
    "\n",
    "        # write qe input files\n",
    "        write_qe_input_set(\n",
    "            structure=structure, input_set_generator=self.input_set_generator)\n",
    "\n",
    "        # run the QE software\n",
    "        run_qe()\n",
    "\n",
    "        # parse QE outputs in form of a task document\n",
    "        task_doc=QETaskDoc.from_directory(\".\")\n",
    "        \n",
    "        return task_doc\n",
    "\n",
    "@dataclass\n",
    "class StaticQEMaker(BaseQEMaker):\n",
    "    \"\"\"\n",
    "    Base QE job maker.\n",
    "\n",
    "    Parameters\n",
    "    ----------\n",
    "    name : str\n",
    "        The job name.\n",
    "    input_set_generator : .QEInputGenerator\n",
    "        A generator used to make the input set.\n",
    "    \"\"\"\n",
    "\n",
    "    name: str = \"static qe job\"\n",
    "    input_set_generator: QEInputGenerator = field(default_factory=QEInputStaticGenerator)\n"
   ],
   "metadata": {
    "ExecuteTime": {
     "end_time": "2024-06-30T21:49:02.075801908Z",
     "start_time": "2024-06-30T21:49:01.757212927Z"
    }
   },
   "execution_count": 15,
   "outputs": []
  },
  {
   "cell_type": "markdown",
   "source": [
    "Finally, it's time to orchestrate all functions and classes together in an actual flow. Note how the number of jobs in `get_ev_curve` can be flexibly controlled by using `strain_lst` and therefore we use `Response` to handle the job output. By making `get_ev_curve` and `plot_energy_volume_curve_job` into `job` objects using the `@job` decorator, we ensure that first all the (E, V) data points are calculated before they are plotted. The `qe_flow` contains the list of the jobs that need to be executed in this workflow. The jobs are connected by the respective `job.output` objects that also ensures the correct order in executing the jobs."
   ],
   "metadata": {
    "collapsed": false
   }
  },
  {
   "cell_type": "code",
   "execution_count": 16,
   "outputs": [
    {
     "name": "stdout",
     "output_type": "stream",
     "text": [
      "2024-06-30 23:49:02,706 INFO Started executing jobs locally\n",
      "2024-06-30 23:49:02,710 INFO Starting job - base qe job (6883bfe0-2b20-49de-92df-c166d6f91dbc)\n"
     ]
    },
    {
     "name": "stderr",
     "output_type": "stream",
     "text": [
      "Authorization required, but no authorization protocol specified\n",
      "Authorization required, but no authorization protocol specified\n"
     ]
    },
    {
     "name": "stdout",
     "output_type": "stream",
     "text": [
      "2024-06-30 23:49:32,255 INFO Finished job - base qe job (6883bfe0-2b20-49de-92df-c166d6f91dbc)\n",
      "2024-06-30 23:49:32,256 INFO Starting job - get_ev_curve (dfc9a5cd-fb91-4582-b6c6-c42b4c65cb83)\n",
      "2024-06-30 23:49:32,268 INFO Finished job - get_ev_curve (dfc9a5cd-fb91-4582-b6c6-c42b4c65cb83)\n",
      "2024-06-30 23:49:32,271 INFO Starting job - static qe job (0a57429a-2360-4293-8f2a-5323a1173570)\n"
     ]
    },
    {
     "name": "stderr",
     "output_type": "stream",
     "text": [
      "Authorization required, but no authorization protocol specified\n",
      "Authorization required, but no authorization protocol specified\n"
     ]
    },
    {
     "name": "stdout",
     "output_type": "stream",
     "text": [
      "2024-06-30 23:49:35,977 INFO Finished job - static qe job (0a57429a-2360-4293-8f2a-5323a1173570)\n",
      "2024-06-30 23:49:35,979 INFO Starting job - static qe job (71996726-fb51-4a1f-8585-373a470bd16c)\n"
     ]
    },
    {
     "name": "stderr",
     "output_type": "stream",
     "text": [
      "Authorization required, but no authorization protocol specified\n",
      "Authorization required, but no authorization protocol specified\n"
     ]
    },
    {
     "name": "stdout",
     "output_type": "stream",
     "text": [
      "2024-06-30 23:49:39,977 INFO Finished job - static qe job (71996726-fb51-4a1f-8585-373a470bd16c)\n",
      "2024-06-30 23:49:39,982 INFO Starting job - static qe job (2cf7b6c9-1f19-4b2f-b85f-df201d546c26)\n"
     ]
    },
    {
     "name": "stderr",
     "output_type": "stream",
     "text": [
      "Authorization required, but no authorization protocol specified\n",
      "Authorization required, but no authorization protocol specified\n"
     ]
    },
    {
     "name": "stdout",
     "output_type": "stream",
     "text": [
      "2024-06-30 23:49:44,274 INFO Finished job - static qe job (2cf7b6c9-1f19-4b2f-b85f-df201d546c26)\n",
      "2024-06-30 23:49:44,275 INFO Starting job - static qe job (a04f788d-9bc1-4453-9897-5d0b4e9321d3)\n"
     ]
    },
    {
     "name": "stderr",
     "output_type": "stream",
     "text": [
      "Authorization required, but no authorization protocol specified\n",
      "Authorization required, but no authorization protocol specified\n"
     ]
    },
    {
     "name": "stdout",
     "output_type": "stream",
     "text": [
      "2024-06-30 23:49:49,249 INFO Finished job - static qe job (a04f788d-9bc1-4453-9897-5d0b4e9321d3)\n",
      "2024-06-30 23:49:49,254 INFO Starting job - static qe job (0ed3d090-bd30-49da-96ed-143b8e7f5b4a)\n"
     ]
    },
    {
     "name": "stderr",
     "output_type": "stream",
     "text": [
      "Authorization required, but no authorization protocol specified\n",
      "Authorization required, but no authorization protocol specified\n"
     ]
    },
    {
     "name": "stdout",
     "output_type": "stream",
     "text": [
      "2024-06-30 23:49:54,070 INFO Finished job - static qe job (0ed3d090-bd30-49da-96ed-143b8e7f5b4a)\n",
      "2024-06-30 23:49:54,071 INFO Starting job - store_inputs (dfc9a5cd-fb91-4582-b6c6-c42b4c65cb83, 2)\n",
      "2024-06-30 23:49:54,073 INFO Finished job - store_inputs (dfc9a5cd-fb91-4582-b6c6-c42b4c65cb83, 2)\n",
      "2024-06-30 23:49:54,074 INFO Starting job - plot_energy_volume_curve_job (92d14a25-bb90-4c86-b970-af05db90550e)\n",
      "2024-06-30 23:49:54,163 INFO Finished job - plot_energy_volume_curve_job (92d14a25-bb90-4c86-b970-af05db90550e)\n",
      "2024-06-30 23:49:54,173 INFO Finished executing jobs locally\n"
     ]
    },
    {
     "data": {
      "text/html": "<img src=\"https://mermaid.ink/img/Zmxvd2NoYXJ0IFRECiAgICA2ODgzYmZlMC0yYjIwLTQ5ZGUtOTJkZi1jMTY2ZDZmOTFkYmMoYmFzZSBxZSBqb2IpCiAgICBkZmM5YTVjZC1mYjkxLTQ1ODItYjZjNi1jNDJiNGM2NWNiODMoZ2V0X2V2X2N1cnZlKQogICAgOTJkMTRhMjUtYmI5MC00Yzg2LWI5NzAtYWYwNWRiOTA1NTBlKHBsb3RfZW5lcmd5X3ZvbHVtZV9jdXJ2ZV9qb2Ip\"/>",
      "text/plain": "<IPython.core.display.Image object>"
     },
     "metadata": {},
     "output_type": "display_data"
    },
    {
     "data": {
      "text/plain": "<Figure size 640x480 with 1 Axes>",
      "image/png": "[encoded data removed]"
     },
     "metadata": {},
     "output_type": "display_data"
    }
   ],
   "source": [
    "from jobflow import job, Response, Flow, run_locally\n",
    "\n",
    "# set up QE PP env\n",
    "os.environ['ESPRESSO_PSEUDO'] = f\"{os.getcwd()}/espresso/pseudo\"\n",
    "\n",
    "@job\n",
    "def get_ev_curve(structure, strain_lst):\n",
    "    structures=generate_structures(structure,strain_lst=strain_lst)\n",
    "    jobs = []\n",
    "    volumes = []\n",
    "    energies = []\n",
    "    for istructure in range(len(strain_lst)):\n",
    "        new_job = StaticQEMaker().make(structures[istructure])\n",
    "        jobs.append(new_job)\n",
    "        volumes.append(new_job.output.volume)\n",
    "        energies.append(new_job.output.energy)\n",
    "    return Response(replace=Flow(jobs, output={\"energies\": energies, \"volumes\": volumes}))\n",
    "    \n",
    "@job\n",
    "def plot_energy_volume_curve_job(volume_lst, energy_lst):\n",
    "    plot_energy_volume_curve(volume_lst=volume_lst, energy_lst=energy_lst)\n",
    "\n",
    "structure = bulk('Al', a=4.15, cubic=True)\n",
    "relax = BaseQEMaker().make(structure=MSONAtoms(structure))\n",
    "ev_curve_data = get_ev_curve(relax.output.structure, strain_lst=np.linspace(0.9, 1.1, 5))\n",
    "# structure optimization job and (E, V) curve data job connected via relax.output\n",
    "plot_curve = plot_energy_volume_curve_job(volume_lst=ev_curve_data.output[\"volumes\"], energy_lst=ev_curve_data.output[\"energies\"])\n",
    "# (E, V) curve data job and plotting the curve job connected via ev_curve_data.output\n",
    "qe_flow = [relax, ev_curve_data, plot_curve]  \n",
    "qe_fw = Flow(qe_flow)\n",
    "# qe_flow is the QE flow that consists of the job for structural optimization, calculating the (E, V) curve data points and plotting the curve\n",
    "run_locally(qe_fw, create_folders=True)  # order of the jobs in the flow is determined by connectivity\n",
    "\n",
    "graph = to_mermaid(qe_fw, show_flow_boxes=True)\n",
    "mm(graph)"
   ],
   "metadata": {
    "collapsed": false,
    "ExecuteTime": {
     "end_time": "2024-06-30T21:49:54.258057729Z",
     "start_time": "2024-06-30T21:49:02.701155072Z"
    }
   }
  },
  {
   "cell_type": "markdown",
   "source": [
    "And with using the `job.output` connectivity, the mermaid graph looks like:"
   ],
   "metadata": {
    "collapsed": false
   }
  },
  {
   "cell_type": "code",
   "execution_count": 21,
   "outputs": [
    {
     "data": {
      "text/html": "<img src=\"https://mermaid.ink/img/CmZsb3djaGFydCBURAogICAgNjg4M2JmZTAtMmIyMC00OWRlLTkyZGYtYzE2NmQ2ZjkxZGJjKGJhc2UgcWUgam9iKSAtLT4gfG91dHB1dC5zdHJ1Y3R1cmV8IGRmYzlhNWNkLWZiOTEtNDU4Mi1iNmM2LWM0MmI0YzY1Y2I4MyhnZXRfZXZfY3VydmUpCiAgICBkZmM5YTVjZC1mYjkxLTQ1ODItYjZjNi1jNDJiNGM2NWNiODMoZ2V0X2V2X2N1cnZlKSAtLT4gfCd2b2x1bWVzJywgJ2VuZXJnaWVzJ3wgOTJkMTRhMjUtYmI5MC00Yzg2LWI5NzAtYWYwNWRiOTA1NTBlKHBsb3RfZW5lcmd5X3ZvbHVtZV9jdXJ2ZV9qb2IpCg==\"/>",
      "text/plain": "<IPython.core.display.Image object>"
     },
     "metadata": {},
     "output_type": "display_data"
    }
   ],
   "source": [
    "mm(\n",
    "\"\"\"\n",
    "flowchart TD\n",
    "    6883bfe0-2b20-49de-92df-c166d6f91dbc(base qe job) --> |output.structure| dfc9a5cd-fb91-4582-b6c6-c42b4c65cb83(get_ev_curve)\n",
    "    dfc9a5cd-fb91-4582-b6c6-c42b4c65cb83(get_ev_curve) --> |'volumes', 'energies'| 92d14a25-bb90-4c86-b970-af05db90550e(plot_energy_volume_curve_job)\n",
    "\"\"\"\n",
    ")"
   ],
   "metadata": {
    "collapsed": false,
    "ExecuteTime": {
     "end_time": "2024-06-30T21:52:49.647846141Z",
     "start_time": "2024-06-30T21:52:49.604021289Z"
    }
   }
  },
  {
   "metadata": {
    "ExecuteTime": {
     "end_time": "2024-06-30T21:20:50.166986280Z",
     "start_time": "2024-06-30T21:20:50.152786964Z"
    }
   },
   "cell_type": "markdown",
   "source": [
    "## Submission to an HPC / Check pointing / Error handling\n",
    "* Use the `jobflow` command `run_locally` to run jobs in serial with a simple job script\n",
    "* Use `fireworks` and `jobflow-remote` to simplify and parallelize the submission of jobs, and allows for checkpointing\n",
    "* Use [`custodian`](http://materialsproject.github.io/custodian/) error handling (not directly handled by `jobflow`), e.g. like in `atomate2`"
   ]
  },
  {
   "cell_type": "markdown",
   "source": [
    "## Data Storage / Data Sharing\n",
    "Key data can be saved in a dedicated MongoDB-like database. This data can be validated with the help of\n",
    "`pydantic`. The latter also allows a direct connection to Fast-API. The Materials Project data generation\n",
    "relies on similar features. Direct calculation outputs will be saved on the compute machine. \n",
    "There are no dedicated mechanisms to save whole projects, but the database can be used to achieve this."
   ],
   "metadata": {
    "collapsed": false,
    "ExecuteTime": {
     "end_time": "2024-06-30T21:19:50.638818400Z",
     "start_time": "2024-06-30T21:19:50.628780294Z"
    }
   }
  },
  {
   "cell_type": "markdown",
   "source": [
    "## Publication of the workflow\n",
    "The `jobflow` infrastructure does not provide a dedicated platform for publishing a workflow currently. However, workflows related to computational materials science have been collected in the package `atomate2`. In addition, users can build their own package by relying on jobflow and share it as any Python project."
   ],
   "metadata": {
    "collapsed": false
   }
  },
  {
   "cell_type": "code",
   "execution_count": null,
   "outputs": [],
   "source": [],
   "metadata": {
    "collapsed": false
   }
  }
 ]
}
