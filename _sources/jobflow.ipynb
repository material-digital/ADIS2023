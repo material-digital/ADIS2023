{
 "metadata": {
  "kernelspec": {
   "display_name": "Python 3 (ipykernel)",
   "language": "python",
   "name": "python3"
  },
  "language_info": {
   "name": "python",
   "version": "3.11.0",
   "mimetype": "text/x-python",
   "codemirror_mode": {
    "name": "ipython",
    "version": 3
   },
   "pygments_lexer": "ipython3",
   "nbconvert_exporter": "python",
   "file_extension": ".py"
  }
 },
 "nbformat_minor": 4,
 "nbformat": 4,
 "cells": [
  {
   "cell_type": "markdown",
   "source": [
    "# jobflow"
   ],
   "metadata": {}
  },
  {
   "metadata": {},
   "cell_type": "markdown",
   "source": [
    "[`jobflow`](https://materialsproject.github.io/jobflow/index.html) and [`atomate2`](https://materialsproject.github.io/atomate2/index.html) are key packages of the [Materials Project](https://materialsproject.org/) . `jobflow` was especially designed to simplify the execution of dynamic workflows -- when the actual number of jobs is dynamically determined upon runtime instead of being statically fixed before running the workflow(s). `jobflow`'s overall flexibility allows for building workflows that go beyond the usage in materials science. `jobflow` serves as the basis of `atomate2`, which implements data generation workflows in the context of materials science and will be used for data generation in the Materials Project in the future.  "
   ]
  },
  {
   "metadata": {},
   "cell_type": "markdown",
   "source": [
    "## Installation / Setup\n",
    "`jobflow` can be installed via `pip install` and directly run with the default setup. It will then internally rely on a memory database as defined in the software package [`maggma`](https://materialsproject.github.io/maggma/). For large-scale usage, a [MongoDB](https://www.mongodb.com/)-like database might be specified in a jobflow.yaml file.\n",
    "A high-throughput setup (i.e., parallel execution of independent parts in the workflow) of `jobflow` can be achieved using additional packages like [`fireworks`](https://materialsproject.github.io/fireworks/) or [`jobflow-remote`](https://matgenix.github.io/jobflow-remote/). Both packages require a MongoDB database. In case of `FireWorks`, however, the MongoDB database needs to be directly connected to the compute nodes. `jobflow-remote` allows remote submission options that only require a MongoDB database on the submitting computer but not the compute nodes. It can also deal with multi-factor authentication."
   ]
  },
  {
   "metadata": {},
   "cell_type": "markdown",
   "source": [
    "## Basic introduction to `jobflow` concepts\n",
    "Before diving into the simulation code and more details, we need to discuss the core concepts of `jobflow` (written in Python). It defines `job` and `Flow` objects to handle the correct sequential execution of a workflow. A `job` is a class that allows for the delayed execution of a function. Functions can be easily transformed into a `job` with the `@job` decorator, as demonstrated here with a test function:"
   ]
  },
  {
   "metadata": {
    "ExecuteTime": {
     "end_time": "2024-07-03T11:59:43.383373Z",
     "start_time": "2024-07-03T11:59:42.489756Z"
    }
   },
   "cell_type": "code",
   "source": [
    "from __future__ import annotations\n",
    "from jobflow import job\n",
    "\n",
    "\n",
    "@job\n",
    "def my_function(my_parameter: int) -> int:\n",
    "    return my_parameter\n",
    "\n",
    "\n",
    "job1 = my_function(my_parameter=1)"
   ],
   "outputs": [],
   "execution_count": 1
  },
  {
   "metadata": {},
   "cell_type": "markdown",
   "source": "When we connect several `job`s to generate a `Flow` object, we can construct a whole workflow. The list of connected `jobs` has to be passed to initialize a `Flow`. The order of the `jobs` is automatically determined by the job connectivity via the `job.output` upon runtime. We can also connect several `job`s and `Flows` to create a new `Flow`.\n"
  },
  {
   "metadata": {
    "ExecuteTime": {
     "end_time": "2024-07-03T11:59:43.391580Z",
     "start_time": "2024-07-03T11:59:43.386059Z"
    }
   },
   "cell_type": "code",
   "source": [
    "from jobflow import job, Flow\n",
    "\n",
    "\n",
    "@job\n",
    "def my_function(my_parameter: int) -> int:\n",
    "    return my_parameter\n",
    "\n",
    "\n",
    "@job\n",
    "def my_second_function(my_parameter: int) -> int:\n",
    "    return my_parameter\n",
    "\n",
    "\n",
    "job1 = my_function(my_parameter=1)\n",
    "job2 = my_second_function(job1.output)\n",
    "flow = Flow([job1, job2], job2.output)"
   ],
   "outputs": [],
   "execution_count": 2
  },
  {
   "cell_type": "markdown",
   "source": [
    "The following simple [Mermaid](https://mermaid.live) graph will illustrate the workflow `flow` from the example above:"
   ],
   "metadata": {
    "collapsed": false
   }
  },
  {
   "cell_type": "code",
   "source": [
    "import base64\n",
    "from IPython.display import Image, display\n",
    "from jobflow.utils.graph import to_mermaid\n",
    "\n",
    "\n",
    "def mm(graph):\n",
    "    graphbytes = graph.encode(\"utf8\")\n",
    "    base64_bytes = base64.b64encode(graphbytes)\n",
    "    base64_string = base64_bytes.decode(\"ascii\")\n",
    "    display(Image(url=\"https://mermaid.ink/img/\" + base64_string))\n",
    "\n",
    "\n",
    "graph_source = to_mermaid(flow, show_flow_boxes=True)\n",
    "\n",
    "mm(graph_source)"
   ],
   "metadata": {
    "collapsed": false,
    "ExecuteTime": {
     "end_time": "2024-07-03T11:59:43.810036Z",
     "start_time": "2024-07-03T11:59:43.392933Z"
    }
   },
   "outputs": [
    {
     "data": {
      "text/html": [
       "<img src=\"https://mermaid.ink/img/Zmxvd2NoYXJ0IFRECiAgICBhMzU0MTg2OC1kNGQ3LTQ4MDktOTFhMS02NWE5NmM1YmFjMzMobXlfZnVuY3Rpb24pIC0tPnxvdXRwdXR8IDZiYTNiYjhlLTVjNWEtNDA5Ni04NGE5LWZjMGNhNjE0ZmFkMihteV9zZWNvbmRfZnVuY3Rpb24pCiAgICBhMzU0MTg2OC1kNGQ3LTQ4MDktOTFhMS02NWE5NmM1YmFjMzMobXlfZnVuY3Rpb24pCiAgICA2YmEzYmI4ZS01YzVhLTQwOTYtODRhOS1mYzBjYTYxNGZhZDIobXlfc2Vjb25kX2Z1bmN0aW9uKQ==\"/>"
      ],
      "text/plain": [
       "<IPython.core.display.Image object>"
      ]
     },
     "metadata": {},
     "output_type": "display_data"
    }
   ],
   "execution_count": 3
  },
  {
   "metadata": {},
   "cell_type": "markdown",
   "source": "With a so-called `Maker` object, the implementation of `job` and `Flow` objects can be further simplified. It is an extended dataclass object that generates a `job` or `Flow` with the `make` method. Dataclasses are used as they allow defining immutable default values and simplify initialisation of attributes. These `Makers` can then be used to reuse code via the usual inheritance in Python.\n"
  },
  {
   "metadata": {
    "ExecuteTime": {
     "end_time": "2024-07-03T11:59:43.817918Z",
     "start_time": "2024-07-03T11:59:43.811514Z"
    }
   },
   "cell_type": "code",
   "source": [
    "from dataclasses import dataclass\n",
    "from jobflow import Maker\n",
    "\n",
    "\n",
    "@dataclass\n",
    "class MyMaker(Maker):\n",
    "    name: str = \"My Maker\"\n",
    "    scaling: float = 1.1\n",
    "\n",
    "    @job\n",
    "    def make(self, my_parameter: int) -> float:\n",
    "        return my_parameter * self.scaling\n",
    "\n",
    "\n",
    "@dataclass\n",
    "class MyInheritedMaker(MyMaker):\n",
    "    name: str = \"My inherited Maker\"\n",
    "\n",
    "\n",
    "job1 = MyMaker().make(my_parameter=1)\n",
    "job2 = MyInheritedMaker().make(my_parameter=job1.output)"
   ],
   "outputs": [],
   "execution_count": 4
  },
  {
   "metadata": {},
   "cell_type": "markdown",
   "source": "When faced with dynamic workflows (where the number of jobs is unclear before execution) a `Response` object instead of a `job` or `Flow` object can be returned. There are several options to insert the new list of jobs into the `Response` object."
  },
  {
   "metadata": {},
   "cell_type": "markdown",
   "source": [
    "## Implementation of Quantum Espresso Workflow\n",
    "We will use this knowledge to implement the Quantum Espresso-related tasks for calculating an \"Energy vs. Volume\" curve. It’s important to note that this is only a basic implementation, and further extensions towards data validation or for a simplified user experience can be added. For example, one can typically configure run commands for quantum-chemical programs via configuration files in atomate2."
   ]
  },
  {
   "metadata": {},
   "cell_type": "markdown",
   "source": "> ℹ️ Note: all outputs of a job need to be transformable into a JSON-like format. Therefore, we use a pymatgen `MSONAtoms` object here instead of an ase `Atoms` object. `MSONAtoms` inherits from the Python package monty’s MSONable class allowing an easy serialization into a `dict`. "
  },
  {
   "cell_type": "markdown",
   "source": "For building the Quantum Espresso (QE)-related tasks, we start by importing essential tools to be able to create and navigate directories (`os`) and execute programs like the QE binary (`subprocess`). `pydantic` is very convenient for validating all kinds of data types. These Pydantic models can then also be directly used for API development as part of [FAST-API](https://fastapi.tiangolo.com/).",
   "metadata": {
    "collapsed": false
   }
  },
  {
   "cell_type": "code",
   "source": [
    "import subprocess\n",
    "import os\n",
    "from pydantic import BaseModel, Field"
   ],
   "metadata": {
    "ExecuteTime": {
     "end_time": "2024-07-03T11:59:43.822983Z",
     "start_time": "2024-07-03T11:59:43.820356Z"
    }
   },
   "outputs": [],
   "execution_count": 5
  },
  {
   "cell_type": "markdown",
   "source": [
    "Then, we import tools for data plotting as well as mathematical operations and manipulation."
   ],
   "metadata": {
    "collapsed": false,
    "ExecuteTime": {
     "end_time": "2024-06-30T18:49:41.083780748Z",
     "start_time": "2024-06-30T18:49:40.328009350Z"
    }
   }
  },
  {
   "cell_type": "code",
   "source": [
    "import matplotlib.pyplot as plt\n",
    "import numpy as np"
   ],
   "metadata": {
    "ExecuteTime": {
     "end_time": "2024-07-03T11:59:44.103958Z",
     "start_time": "2024-07-03T11:59:43.824324Z"
    }
   },
   "outputs": [],
   "execution_count": 6
  },
  {
   "cell_type": "markdown",
   "source": [
    "ASE provides us with a method to create bulk crystal systems and a writer to handle output. "
   ],
   "metadata": {
    "collapsed": false
   }
  },
  {
   "cell_type": "code",
   "source": [
    "from ase.build import bulk\n",
    "from ase.io import write"
   ],
   "metadata": {
    "ExecuteTime": {
     "end_time": "2024-07-03T11:59:44.490896Z",
     "start_time": "2024-07-03T11:59:44.105647Z"
    }
   },
   "outputs": [],
   "execution_count": 7
  },
  {
   "cell_type": "markdown",
   "source": "Additionally, we take the QE XML output parser written for this tutorial.",
   "metadata": {
    "collapsed": false
   }
  },
  {
   "cell_type": "code",
   "source": [
    "from adis_tools.parsers import parse_pw"
   ],
   "metadata": {
    "collapsed": false,
    "ExecuteTime": {
     "end_time": "2024-07-03T11:59:44.614351Z",
     "start_time": "2024-07-03T11:59:44.492579Z"
    }
   },
   "outputs": [],
   "execution_count": 8
  },
  {
   "cell_type": "markdown",
   "source": "To calculate a (E, V) curve with QE, we implement a function that applies a certain strain to the original structure.",
   "metadata": {
    "collapsed": false
   }
  },
  {
   "cell_type": "code",
   "source": [
    "from pymatgen.io.ase import MSONAtoms\n",
    "from ase import Atoms\n",
    "\n",
    "\n",
    "def generate_structures(\n",
    "    structure: Atoms, strain_lst: list[float]\n",
    "):  # structure should be of ase Atoms type\n",
    "    structure = MSONAtoms(structure)\n",
    "    structure_lst = []\n",
    "    for strain in strain_lst:\n",
    "        structure_strain = structure.copy()\n",
    "        structure_strain.set_cell(\n",
    "            structure_strain.cell * strain ** (1 / 3), scale_atoms=True\n",
    "        )\n",
    "        structure_lst.append(structure_strain)\n",
    "    return structure_lst"
   ],
   "metadata": {
    "ExecuteTime": {
     "end_time": "2024-07-03T11:59:45.187502Z",
     "start_time": "2024-07-03T11:59:44.615864Z"
    }
   },
   "outputs": [],
   "execution_count": 9
  },
  {
   "cell_type": "markdown",
   "source": [
    "Then we define a function to plot and save the (E, V) curve as a PNG file."
   ],
   "metadata": {
    "collapsed": false
   }
  },
  {
   "cell_type": "code",
   "source": [
    "def plot_energy_volume_curve(volume_lst: list[float], energy_lst: list[float]):\n",
    "    plt.plot(volume_lst, energy_lst)\n",
    "    plt.xlabel(\"Volume\")\n",
    "    plt.ylabel(\"Energy\")\n",
    "    plt.savefig(\"evcurve.png\")"
   ],
   "metadata": {
    "ExecuteTime": {
     "end_time": "2024-07-03T11:59:45.196059Z",
     "start_time": "2024-07-03T11:59:45.190692Z"
    }
   },
   "outputs": [],
   "execution_count": 10
  },
  {
   "cell_type": "markdown",
   "source": [
    "Next, we need a function to write the QE input files. The `input_dict` has to contain all essential input information like the structure, the pseudopotentials, the number of kpoints, the calculation type and the smearing type."
   ],
   "metadata": {
    "collapsed": false
   }
  },
  {
   "cell_type": "code",
   "source": [
    "def write_input(input_dict: dict, working_directory: str = \".\"):\n",
    "    filename = os.path.join(working_directory, \"input.pwi\")\n",
    "    os.makedirs(working_directory, exist_ok=True)\n",
    "    write(\n",
    "        filename=filename,\n",
    "        images=input_dict[\"structure\"],\n",
    "        Crystal=True,\n",
    "        kpts=input_dict[\"kpts\"],\n",
    "        input_data={\n",
    "            \"calculation\": input_dict[\"calculation\"],\n",
    "            \"occupations\": \"smearing\",\n",
    "            \"degauss\": input_dict[\"smearing\"],\n",
    "        },\n",
    "        pseudopotentials=input_dict[\"pseudopotentials\"],\n",
    "        tstress=True,\n",
    "        tprnfor=True,\n",
    "    )"
   ],
   "metadata": {
    "ExecuteTime": {
     "end_time": "2024-07-03T11:59:45.203075Z",
     "start_time": "2024-07-03T11:59:45.198354Z"
    }
   },
   "outputs": [],
   "execution_count": 11
  },
  {
   "cell_type": "markdown",
   "source": [
    "Then, we also need to define a function to collect the output from the QE calculation to pass it to `plot_energy_volume_curve` in order to plot the actual figure. Here we make use of the ADIS QE XML output parser `parse_pw`."
   ],
   "metadata": {
    "collapsed": false
   }
  },
  {
   "cell_type": "code",
   "source": [
    "def collect_output(working_directory=\".\"):\n",
    "    output = parse_pw(os.path.join(working_directory, \"pwscf.xml\"))\n",
    "    return {\n",
    "        \"structure\": MSONAtoms(output[\"ase_structure\"]),\n",
    "        \"energy\": output[\"energy\"],\n",
    "        \"volume\": output[\"ase_structure\"].get_volume(),\n",
    "    }"
   ],
   "metadata": {
    "ExecuteTime": {
     "end_time": "2024-07-03T11:59:45.208945Z",
     "start_time": "2024-07-03T11:59:45.205071Z"
    }
   },
   "outputs": [],
   "execution_count": 12
  },
  {
   "cell_type": "markdown",
   "source": [
    "Now, we need to systematically handle the QE input. We make use of the pymatgen `InputSet` and `InputGenerator` classes to control and define the input data format. The `QEInputSet` defines the input information format which will be followed by the `QEInputGenerator`. We also define an extra `QEInputStaticGenerator` class (inheriting from `QEInputGenerator`) to be able to separately handle the static QE calculations for every strained structure in a convenient way.  Finally, we define the function `write_qe_input_set` to write the QE input files into the current working directory."
   ],
   "metadata": {
    "collapsed": false,
    "ExecuteTime": {
     "end_time": "2024-06-30T19:44:34.646615479Z",
     "start_time": "2024-06-30T19:44:34.599326311Z"
    }
   }
  },
  {
   "cell_type": "code",
   "source": [
    "from pymatgen.io.core import InputSet, InputGenerator\n",
    "from dataclasses import dataclass, field\n",
    "\n",
    "\n",
    "class QEInputSet(InputSet):\n",
    "    \"\"\"\n",
    "    Writes an QE input based on an input_dict\n",
    "    \"\"\"\n",
    "\n",
    "    def __init__(self, input_dict):\n",
    "        self.input_dict = input_dict\n",
    "\n",
    "    def write_input(self, working_directory=\".\"):\n",
    "        write_input(self.input_dict, working_directory=working_directory)\n",
    "\n",
    "\n",
    "@dataclass\n",
    "class QEInputGenerator(InputGenerator):\n",
    "    \"\"\"\n",
    "    Generates an QE input based on the format given in QEInputSet.\n",
    "    \"\"\"\n",
    "\n",
    "    pseudopotentials: dict = field(\n",
    "        default_factory=lambda: {\"Al\": \"Al.pbe-n-kjpaw_psl.1.0.0.UPF\"}\n",
    "    )\n",
    "    kpts: tuple = (3, 3, 3)\n",
    "    calculation: str = \"vc-relax\"\n",
    "    smearing: float = 0.02\n",
    "\n",
    "    def get_input_set(self, structure) -> QEInputSet:\n",
    "\n",
    "        input_dict = {\n",
    "            \"structure\": structure,\n",
    "            \"pseudopotentials\": self.pseudopotentials,\n",
    "            \"kpts\": self.kpts,\n",
    "            \"calculation\": self.calculation,\n",
    "            \"smearing\": self.smearing,\n",
    "        }\n",
    "        return QEInputSet(input_dict=input_dict)\n",
    "\n",
    "\n",
    "@dataclass\n",
    "class QEInputStaticGenerator(QEInputGenerator):\n",
    "    calculation: str = \"scf\"\n",
    "\n",
    "\n",
    "def write_qe_input_set(\n",
    "    structure: Atoms,\n",
    "    input_set_generator: InputGenerator = QEInputGenerator(),\n",
    "    working_directory: str = \".\",\n",
    ") -> None:\n",
    "    qis = input_set_generator.get_input_set(structure=structure)\n",
    "    qis.write_input(working_directory=working_directory)"
   ],
   "metadata": {
    "collapsed": false,
    "ExecuteTime": {
     "end_time": "2024-07-03T11:59:45.220507Z",
     "start_time": "2024-07-03T11:59:45.210945Z"
    }
   },
   "outputs": [],
   "execution_count": 13
  },
  {
   "cell_type": "markdown",
   "source": [
    "The next steps are all about handling the execution of QE and the output data collection. We start by defining a QE task document `QETaskDoc` to systematically collect the output data. For the (E, V) curve, the energy and volume are of course the most important information. The task document could be further extended to contain other relevant information. Next, we define a `BaseQEMaker` to handle generic QE jobs (in our case for the structural relaxation) and a separate `StaticQEMaker` for the static QE calculations. The `BaseQEMaker` is expecting the generic input set generated by `QEInputGenerator`, while `StaticQEMaker` expects the `QEInputStaticGenerator` type. As the `StaticQEMaker` inherits from the `BaseQEMaker`, we only need to make sure to pass the correct input set generator type."
   ],
   "metadata": {
    "collapsed": false
   }
  },
  {
   "cell_type": "code",
   "source": [
    "from dataclasses import dataclass, field\n",
    "from jobflow import job, Maker\n",
    "from typing import Any, Optional, Union\n",
    "\n",
    "\n",
    "QE_CMD = \"mpirun -np 1 pw.x -in input.pwi > output.pwo\"\n",
    "\n",
    "\n",
    "def run_qe(qe_cmd: str = QE_CMD):\n",
    "    subprocess.check_output(qe_cmd, shell=True, universal_newlines=True)\n",
    "\n",
    "\n",
    "class QETaskDoc(BaseModel):\n",
    "    structure: Optional[MSONAtoms] = Field(None, description=\"ASE structure\")\n",
    "    energy: Optional[float] = Field(None, description=\"DFT energy in eV\")\n",
    "    volume: Optional[float] = Field(None, description=\"volume in Angstrom^3\")\n",
    "\n",
    "    @classmethod\n",
    "    def from_directory(cls, working_directory):\n",
    "        output = collect_output(working_directory=working_directory)\n",
    "        # structure object needs to be serializable, i.e., we need an additional transformation\n",
    "        return cls(\n",
    "            structure=output[\"structure\"],\n",
    "            energy=output[\"energy\"],\n",
    "            volume=output[\"volume\"],\n",
    "        )\n",
    "\n",
    "\n",
    "@dataclass\n",
    "class BaseQEMaker(Maker):\n",
    "    \"\"\"\n",
    "    Base QE job maker.\n",
    "\n",
    "    Parameters\n",
    "    ----------\n",
    "    name : str\n",
    "        The job name.\n",
    "    input_set_generator : .QEInputGenerator\n",
    "        A generator used to make the input set.\n",
    "    \"\"\"\n",
    "\n",
    "    name: str = \"base qe job\"\n",
    "    input_set_generator: QEInputGenerator = field(default_factory=QEInputGenerator)\n",
    "\n",
    "    @job(output_schema=QETaskDoc)\n",
    "    def make(self, structure: Atoms | MSONAtoms) -> QETaskDoc:\n",
    "        \"\"\"\n",
    "        Run a QE calculation.\n",
    "\n",
    "        Parameters\n",
    "        ----------\n",
    "        structure : MSONAtoms|Atoms\n",
    "            An Atoms or MSONAtoms object.\n",
    "\n",
    "        Returns\n",
    "        -------\n",
    "            Output of a QE calculation\n",
    "        \"\"\"\n",
    "        # copy previous inputs\n",
    "\n",
    "        # write qe input files\n",
    "        write_qe_input_set(\n",
    "            structure=structure, input_set_generator=self.input_set_generator\n",
    "        )\n",
    "\n",
    "        # run the QE software\n",
    "        run_qe()\n",
    "\n",
    "        # parse QE outputs in form of a task document\n",
    "        task_doc = QETaskDoc.from_directory(\".\")\n",
    "\n",
    "        return task_doc\n",
    "\n",
    "\n",
    "@dataclass\n",
    "class StaticQEMaker(BaseQEMaker):\n",
    "    \"\"\"\n",
    "    Base QE job maker.\n",
    "\n",
    "    Parameters\n",
    "    ----------\n",
    "    name : str\n",
    "        The job name.\n",
    "    input_set_generator : .QEInputGenerator\n",
    "        A generator used to make the input set.\n",
    "    \"\"\"\n",
    "\n",
    "    name: str = \"static qe job\"\n",
    "    input_set_generator: QEInputGenerator = field(\n",
    "        default_factory=QEInputStaticGenerator\n",
    "    )"
   ],
   "metadata": {
    "ExecuteTime": {
     "end_time": "2024-07-03T11:59:45.236298Z",
     "start_time": "2024-07-03T11:59:45.224011Z"
    }
   },
   "outputs": [],
   "execution_count": 14
  },
  {
   "cell_type": "markdown",
   "source": [
    "Finally, it's time to orchestrate all functions and classes together into an actual flow. Note how the number of jobs in `get_ev_curve` can be flexibly controlled by using `strain_lst` and therefore we use a `Response` object to handle the flexible job output. By making `get_ev_curve` and `plot_energy_volume_curve_job` into `job` objects using the `@job` decorator, we ensure that first all the (E, V) data points are calculated before they are plotted. The `qe_flow` contains the list of the jobs that need to be executed in this workflow. The jobs are connected by the respective `job.output` objects that also ensures the correct order in executing the jobs."
   ],
   "metadata": {
    "collapsed": false
   }
  },
  {
   "cell_type": "code",
   "source": [
    "from jobflow import job, Response, Flow, run_locally\n",
    "\n",
    "# set up QE PP env\n",
    "os.environ[\"ESPRESSO_PSEUDO\"] = f\"{os.getcwd()}/espresso/pseudo\"\n",
    "\n",
    "\n",
    "@job\n",
    "def get_ev_curve(structure: Atoms | MSONAtoms, strain_lst: list(float)):\n",
    "    structures = generate_structures(structure, strain_lst=strain_lst)\n",
    "    jobs = []\n",
    "    volumes = []\n",
    "    energies = []\n",
    "    for istructure in range(len(strain_lst)):\n",
    "        new_job = StaticQEMaker().make(structures[istructure])\n",
    "        jobs.append(new_job)\n",
    "        volumes.append(new_job.output.volume)\n",
    "        energies.append(new_job.output.energy)\n",
    "    return Response(\n",
    "        replace=Flow(jobs, output={\"energies\": energies, \"volumes\": volumes})\n",
    "    )\n",
    "\n",
    "\n",
    "@job\n",
    "def plot_energy_volume_curve_job(volume_lst: list(float), energy_lst: list(float)):\n",
    "    plot_energy_volume_curve(volume_lst=volume_lst, energy_lst=energy_lst)\n",
    "\n",
    "\n",
    "structure = bulk(\"Al\", a=4.15, cubic=True)\n",
    "relax = BaseQEMaker().make(structure=MSONAtoms(structure))\n",
    "ev_curve_data = get_ev_curve(\n",
    "    relax.output.structure, strain_lst=np.linspace(0.9, 1.1, 5)\n",
    ")\n",
    "# structure optimization job and (E, V) curve data job connected via relax.output\n",
    "plot_curve = plot_energy_volume_curve_job(\n",
    "    volume_lst=ev_curve_data.output[\"volumes\"],\n",
    "    energy_lst=ev_curve_data.output[\"energies\"],\n",
    ")\n",
    "# (E, V) curve data job and plotting the curve job connected via ev_curve_data.output\n",
    "qe_flow = [relax, ev_curve_data, plot_curve]\n",
    "qe_fw = Flow(qe_flow)\n",
    "# qe_flow is the QE flow that consists of the job for structural optimization, calculating the (E, V) curve data points and plotting the curve\n",
    "run_locally(\n",
    "    qe_fw, create_folders=True\n",
    ")  # order of the jobs in the flow determined by connectivity\n",
    "\n",
    "graph = to_mermaid(qe_fw, show_flow_boxes=True)\n",
    "mm(graph)"
   ],
   "metadata": {
    "collapsed": false,
    "ExecuteTime": {
     "end_time": "2024-07-03T12:01:06.585706Z",
     "start_time": "2024-07-03T11:59:45.237648Z"
    }
   },
   "outputs": [
    {
     "name": "stdout",
     "output_type": "stream",
     "text": [
      "2024-07-03 13:59:45,257 INFO Started executing jobs locally\n",
      "2024-07-03 13:59:45,266 INFO Starting job - base qe job (fb7e4f95-15fe-4ae0-aa3b-3d0f5dc8b65a)\n"
     ]
    },
    {
     "name": "stderr",
     "output_type": "stream",
     "text": [
      "Note: The following floating-point exceptions are signalling: IEEE_INVALID_FLAG\n"
     ]
    },
    {
     "name": "stdout",
     "output_type": "stream",
     "text": [
      "2024-07-03 14:00:31,075 INFO Finished job - base qe job (fb7e4f95-15fe-4ae0-aa3b-3d0f5dc8b65a)\n",
      "2024-07-03 14:00:31,078 INFO Starting job - get_ev_curve (8df443c4-f690-4c1b-9126-8455b6458d9d)\n",
      "2024-07-03 14:00:31,099 INFO Finished job - get_ev_curve (8df443c4-f690-4c1b-9126-8455b6458d9d)\n",
      "2024-07-03 14:00:31,105 INFO Starting job - static qe job (8c2ce097-6b17-43dd-9f03-d4477338688b)\n"
     ]
    },
    {
     "name": "stderr",
     "output_type": "stream",
     "text": [
      "Note: The following floating-point exceptions are signalling: IEEE_INVALID_FLAG\n"
     ]
    },
    {
     "name": "stdout",
     "output_type": "stream",
     "text": [
      "2024-07-03 14:00:37,026 INFO Finished job - static qe job (8c2ce097-6b17-43dd-9f03-d4477338688b)\n",
      "2024-07-03 14:00:37,029 INFO Starting job - static qe job (046ab976-1dc9-4b45-816d-86297a209912)\n"
     ]
    },
    {
     "name": "stderr",
     "output_type": "stream",
     "text": [
      "Note: The following floating-point exceptions are signalling: IEEE_INVALID_FLAG\n"
     ]
    },
    {
     "name": "stdout",
     "output_type": "stream",
     "text": [
      "2024-07-03 14:00:43,878 INFO Finished job - static qe job (046ab976-1dc9-4b45-816d-86297a209912)\n",
      "2024-07-03 14:00:43,883 INFO Starting job - static qe job (2e1199a8-12c0-4df0-afdc-2543f0a1652b)\n"
     ]
    },
    {
     "name": "stderr",
     "output_type": "stream",
     "text": [
      "Note: The following floating-point exceptions are signalling: IEEE_INVALID_FLAG\n"
     ]
    },
    {
     "name": "stdout",
     "output_type": "stream",
     "text": [
      "2024-07-03 14:00:50,753 INFO Finished job - static qe job (2e1199a8-12c0-4df0-afdc-2543f0a1652b)\n",
      "2024-07-03 14:00:50,759 INFO Starting job - static qe job (b6118649-654f-445c-ba44-091c6bf6a5af)\n"
     ]
    },
    {
     "name": "stderr",
     "output_type": "stream",
     "text": [
      "Note: The following floating-point exceptions are signalling: IEEE_INVALID_FLAG\n"
     ]
    },
    {
     "name": "stdout",
     "output_type": "stream",
     "text": [
      "2024-07-03 14:00:58,591 INFO Finished job - static qe job (b6118649-654f-445c-ba44-091c6bf6a5af)\n",
      "2024-07-03 14:00:58,598 INFO Starting job - static qe job (ed35e52e-fd72-495a-ae7f-4f2f949d8031)\n"
     ]
    },
    {
     "name": "stderr",
     "output_type": "stream",
     "text": [
      "Note: The following floating-point exceptions are signalling: IEEE_INVALID_FLAG\n"
     ]
    },
    {
     "name": "stdout",
     "output_type": "stream",
     "text": [
      "2024-07-03 14:01:06,332 INFO Finished job - static qe job (ed35e52e-fd72-495a-ae7f-4f2f949d8031)\n",
      "2024-07-03 14:01:06,337 INFO Starting job - store_inputs (8df443c4-f690-4c1b-9126-8455b6458d9d, 2)\n",
      "2024-07-03 14:01:06,340 INFO Finished job - store_inputs (8df443c4-f690-4c1b-9126-8455b6458d9d, 2)\n",
      "2024-07-03 14:01:06,343 INFO Starting job - plot_energy_volume_curve_job (4bb64989-7cc3-4dc4-900f-19c10d959dfa)\n",
      "2024-07-03 14:01:06,497 INFO Finished job - plot_energy_volume_curve_job (4bb64989-7cc3-4dc4-900f-19c10d959dfa)\n",
      "2024-07-03 14:01:06,498 INFO Finished executing jobs locally\n"
     ]
    },
    {
     "data": {
      "text/html": [
       "<img src=\"https://mermaid.ink/img/Zmxvd2NoYXJ0IFRECiAgICBmYjdlNGY5NS0xNWZlLTRhZTAtYWEzYi0zZDBmNWRjOGI2NWEoYmFzZSBxZSBqb2IpCiAgICA4ZGY0NDNjNC1mNjkwLTRjMWItOTEyNi04NDU1YjY0NThkOWQoZ2V0X2V2X2N1cnZlKQogICAgNGJiNjQ5ODktN2NjMy00ZGM0LTkwMGYtMTljMTBkOTU5ZGZhKHBsb3RfZW5lcmd5X3ZvbHVtZV9jdXJ2ZV9qb2Ip\"/>"
      ],
      "text/plain": [
       "<IPython.core.display.Image object>"
      ]
     },
     "metadata": {},
     "output_type": "display_data"
    },
    {
     "data": {
      "text/plain": [
       "<Figure size 640x480 with 1 Axes>"
      ],
      "image/png": "[encoded data removed]"
     },
     "metadata": {},
     "output_type": "display_data"
    }
   ],
   "execution_count": 15
  },
  {
   "cell_type": "markdown",
   "source": [
    "And with using the `job.output` connectivity, the mermaid graph looks like:"
   ],
   "metadata": {
    "collapsed": false
   }
  },
  {
   "cell_type": "code",
   "source": [
    "mm(\n",
    "    \"\"\"\n",
    "flowchart TD\n",
    "    6883bfe0-2b20-49de-92df-c166d6f91dbc(base qe job) --> |output.structure| dfc9a5cd-fb91-4582-b6c6-c42b4c65cb83(get_ev_curve)\n",
    "    dfc9a5cd-fb91-4582-b6c6-c42b4c65cb83(get_ev_curve) --> |'volumes', 'energies'| 92d14a25-bb90-4c86-b970-af05db90550e(plot_energy_volume_curve_job)\n",
    "\"\"\"\n",
    ")"
   ],
   "metadata": {
    "collapsed": false,
    "ExecuteTime": {
     "end_time": "2024-07-03T12:01:06.592117Z",
     "start_time": "2024-07-03T12:01:06.587277Z"
    }
   },
   "outputs": [
    {
     "data": {
      "text/html": [
       "<img src=\"https://mermaid.ink/img/CmZsb3djaGFydCBURAogICAgNjg4M2JmZTAtMmIyMC00OWRlLTkyZGYtYzE2NmQ2ZjkxZGJjKGJhc2UgcWUgam9iKSAtLT4gfG91dHB1dC5zdHJ1Y3R1cmV8IGRmYzlhNWNkLWZiOTEtNDU4Mi1iNmM2LWM0MmI0YzY1Y2I4MyhnZXRfZXZfY3VydmUpCiAgICBkZmM5YTVjZC1mYjkxLTQ1ODItYjZjNi1jNDJiNGM2NWNiODMoZ2V0X2V2X2N1cnZlKSAtLT4gfCd2b2x1bWVzJywgJ2VuZXJnaWVzJ3wgOTJkMTRhMjUtYmI5MC00Yzg2LWI5NzAtYWYwNWRiOTA1NTBlKHBsb3RfZW5lcmd5X3ZvbHVtZV9jdXJ2ZV9qb2IpCg==\"/>"
      ],
      "text/plain": [
       "<IPython.core.display.Image object>"
      ]
     },
     "metadata": {},
     "output_type": "display_data"
    }
   ],
   "execution_count": 16
  },
  {
   "metadata": {
    "ExecuteTime": {
     "end_time": "2024-06-30T21:20:50.166986280Z",
     "start_time": "2024-06-30T21:20:50.152786964Z"
    }
   },
   "cell_type": "markdown",
   "source": [
    "## Submission to an HPC / Check pointing / Error handling\n",
    "* Use the `jobflow` command `run_locally` to run jobs in serial with a simple job script\n",
    "* Use `fireworks` and `jobflow-remote` to simplify and parallelize the submission of jobs, and allows for checkpointing\n",
    "* Use [`custodian`](http://materialsproject.github.io/custodian/) error handling (not directly handled by `jobflow`), e.g. like in `atomate2`"
   ]
  },
  {
   "cell_type": "markdown",
   "source": [
    "## Data Storage / Data Sharing\n",
    "Key data can be saved in a dedicated MongoDB-like database. This data can be validated with the help of\n",
    "`pydantic`. The latter also allows a direct connection to Fast-API. The Materials Project data generation\n",
    "relies on similar features. Direct calculation outputs will be saved on the compute machine. \n",
    "There are no dedicated mechanisms to save whole projects, but the database can be used to achieve this."
   ],
   "metadata": {
    "collapsed": false,
    "ExecuteTime": {
     "end_time": "2024-06-30T21:19:50.638818400Z",
     "start_time": "2024-06-30T21:19:50.628780294Z"
    }
   }
  },
  {
   "cell_type": "markdown",
   "source": [
    "## Publication of the workflow\n",
    "The `jobflow` infrastructure does not provide a dedicated platform for publishing a workflow currently. However, workflows related to computational materials science have been collected in the package `atomate2`. In addition, users can build their own package by relying on `jobflow` and share it as a new Python-based program. There are also additional materials science packages like [NanoParticleTools](https://github.com/BlauGroup/NanoParticleTools) or [QuAcc](https://github.com/Quantum-Accelerators/quacc) that rely on `jobflow`."
   ],
   "metadata": {
    "collapsed": false
   }
  },
  {
   "cell_type": "code",
   "execution_count": null,
   "outputs": [],
   "source": [],
   "metadata": {
    "collapsed": false
   }
  }
 ]
}
